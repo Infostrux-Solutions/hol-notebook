{
 "cells": [
  {
   "cell_type": "code",
   "execution_count": null,
   "id": "3e8e0eec",
   "metadata": {},
   "outputs": [],
   "source": [
    "# About Snowflake inline SQL request.\n",
    "# cloud-sql projects is no longer supported.\n",
    "# ipython-sql cannot be used with key/pair auth. https://docs.snowflake.com/en/user-guide/sqlalchemy.html#key-pair-authentication-support"
   ]
  },
  {
   "cell_type": "code",
   "execution_count": 4,
   "id": "189dd011",
   "metadata": {},
   "outputs": [
    {
     "name": "stdout",
     "output_type": "stream",
     "text": [
      "The autoreload extension is already loaded. To reload it, use:\n",
      "  %reload_ext autoreload\n"
     ]
    }
   ],
   "source": [
    "%load_ext autoreload\n",
    "%autoreload 2 "
   ]
  },
  {
   "cell_type": "code",
   "execution_count": 5,
   "id": "e4f171b3-6bf1-4b5b-8757-46ff6999c3f1",
   "metadata": {},
   "outputs": [],
   "source": [
    "import sys\n",
    "import os\n",
    "notebook_dir = os.getcwd()\n",
    "sys.path.append(os.path.abspath(os.path.join(notebook_dir, \"..\")))\n",
    "\n",
    "from src.snowflake_utils.connect import connect"
   ]
  },
  {
   "cell_type": "code",
   "execution_count": 6,
   "id": "4c1bbc6a",
   "metadata": {},
   "outputs": [
    {
     "name": "stdout",
     "output_type": "stream",
     "text": [
      "Current_Date: 2025-02-26\n",
      "Snowflake_Version: 9.3.3\n"
     ]
    }
   ],
   "source": [
    "# Get the snowflake connection object\n",
    "conn = connect()"
   ]
  },
  {
   "cell_type": "code",
   "execution_count": 7,
   "id": "17c61288",
   "metadata": {},
   "outputs": [
    {
     "data": {
      "text/plain": [
       "<snowflake.connector.cursor.SnowflakeCursor at 0x1333a3790>"
      ]
     },
     "execution_count": 7,
     "metadata": {},
     "output_type": "execute_result"
    }
   ],
   "source": [
    "# Get an execution cursor\n",
    "cs = conn.cursor()\n",
    "\n",
    "# sample SQL query\n",
    "sql_query = 'select current_version()'\n",
    "\n",
    "# execute SQL query inside Snowflake\n",
    "cs.execute(sql_query)"
   ]
  },
  {
   "cell_type": "code",
   "execution_count": 8,
   "id": "14b513e4",
   "metadata": {},
   "outputs": [
    {
     "data": {
      "text/html": [
       "<div>\n",
       "<style scoped>\n",
       "    .dataframe tbody tr th:only-of-type {\n",
       "        vertical-align: middle;\n",
       "    }\n",
       "\n",
       "    .dataframe tbody tr th {\n",
       "        vertical-align: top;\n",
       "    }\n",
       "\n",
       "    .dataframe thead th {\n",
       "        text-align: right;\n",
       "    }\n",
       "</style>\n",
       "<table border=\"1\" class=\"dataframe\">\n",
       "  <thead>\n",
       "    <tr style=\"text-align: right;\">\n",
       "      <th></th>\n",
       "      <th>CURRENT_VERSION()</th>\n",
       "    </tr>\n",
       "  </thead>\n",
       "  <tbody>\n",
       "    <tr>\n",
       "      <th>0</th>\n",
       "      <td>9.3.3</td>\n",
       "    </tr>\n",
       "  </tbody>\n",
       "</table>\n",
       "</div>"
      ],
      "text/plain": [
       "  CURRENT_VERSION()\n",
       "0             9.3.3"
      ]
     },
     "execution_count": 8,
     "metadata": {},
     "output_type": "execute_result"
    }
   ],
   "source": [
    "# store the query results as a pandas DataFrame\n",
    "df = cs.fetch_pandas_all()\n",
    "df.head()"
   ]
  }
 ],
 "metadata": {
  "kernelspec": {
   "display_name": ".venv",
   "language": "python",
   "name": "python3"
  },
  "language_info": {
   "codemirror_mode": {
    "name": "ipython",
    "version": 3
   },
   "file_extension": ".py",
   "mimetype": "text/x-python",
   "name": "python",
   "nbconvert_exporter": "python",
   "pygments_lexer": "ipython3",
   "version": "3.11.9"
  }
 },
 "nbformat": 4,
 "nbformat_minor": 5
}

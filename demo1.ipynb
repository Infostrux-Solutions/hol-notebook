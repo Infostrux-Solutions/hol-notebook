{
 "cells": [
  {
   "cell_type": "code",
   "execution_count": null,
   "id": "3e8e0eec",
   "metadata": {},
   "outputs": [],
   "source": [
    "# Import python packages\n",
    "import streamlit as st\n",
    "import pandas as pd\n",
    "\n",
    "# We can also use Snowpark for our analyses!\n",
    "from snowflake.snowpark.context import get_active_session\n",
    "session = get_active_session()\n"
   ]
  },
  {
   "cell_type": "code",
   "execution_count": null,
   "id": "189dd011",
   "metadata": {},
   "outputs": [],
   "source": [
    "-- Welcome to Snowflake Notebooks!\n",
    "-- Try out a SQL cell to generate some data.\n",
    "SELECT 'FRIDAY' as SNOWDAY, 0.2 as CHANCE_OF_SNOW\n",
    "UNION ALL\n",
    "SELECT 'SATURDAY',0.5\n",
    "UNION ALL \n",
    "SELECT 'SUNDAY', 0.9;"
   ]
  },
  {
   "cell_type": "code",
   "execution_count": null,
   "id": "e4f171b3-6bf1-4b5b-8757-46ff6999c3f1",
   "metadata": {},
   "outputs": [],
   "source": [
    "# Then, we can use the python name to turn cell2 into a Pandas dataframe\n",
    "my_df = cell2.to_pandas()\n",
    "\n",
    "# Chart the data\n",
    "st.subheader(\"Chance of SNOW ❄️\")\n",
    "st.line_chart(my_df, x='SNOWDAY', y='CHANCE_OF_SNOW')\n",
    "\n",
    "# Give it a go!\n",
    "st.subheader(\"Try it out yourself and show off your skills 🥇\")"
   ]
  },
  {
   "cell_type": "code",
   "execution_count": null,
   "id": "6e6be0b9",
   "metadata": {},
   "outputs": [],
   "source": [
    "!pip install scikit-learn"
   ]
  },
  {
   "cell_type": "code",
   "execution_count": null,
   "id": "d67703ef",
   "metadata": {},
   "outputs": [],
   "source": [
    "!pip install rdkit"
   ]
  },
  {
   "cell_type": "code",
   "execution_count": null,
   "id": "e3d1dd46",
   "metadata": {},
   "outputs": [],
   "source": [
    "from rdkit import Chem; \n",
    "print(Chem.MolToMolBlock(Chem.MolFromSmiles('C1CCC1')))"
   ]
  }
 ],
 "metadata": {
  "kernelspec": {
   "display_name": ".venv",
   "language": "python",
   "name": "python3"
  },
  "language_info": {
   "codemirror_mode": {
    "name": "ipython",
    "version": 3
   },
   "file_extension": ".py",
   "mimetype": "text/x-python",
   "name": "python",
   "nbconvert_exporter": "python",
   "pygments_lexer": "ipython3",
   "version": "3.11.9"
  }
 },
 "nbformat": 4,
 "nbformat_minor": 5
}

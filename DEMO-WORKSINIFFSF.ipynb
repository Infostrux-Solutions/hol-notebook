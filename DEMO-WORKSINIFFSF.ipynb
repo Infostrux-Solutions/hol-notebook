{
 "metadata": {
  "kernelspec": {
   "display_name": "Streamlit Notebook",
   "name": "streamlit"
  },
  "lastEditStatus": {
   "notebookId": "7blegznmhszjyphg7sjx",
   "authorId": "809225372634",
   "authorName": "TRNG_COREY",
   "authorEmail": "COREY@INFOSTRUX.COM",
   "sessionId": "c76831a8-74cb-4693-921c-f9d96659fc1b",
   "lastEditTime": 1742839192835
  }
 },
 "nbformat_minor": 5,
 "nbformat": 4,
 "cells": [
  {
   "cell_type": "code",
   "id": "1849ad38-da1d-4c96-85a5-7a051a4ed6fa",
   "metadata": {
    "language": "sql",
    "name": "ENVIRONMENT"
   },
   "outputs": [],
   "source": "-- CHANGE THIS WHEN MOVING TO IFF ENVIRONMENT\nUSE DATABASE SCENT_WRK_DEV_DB;\nUSE SCHEMA DEMO;",
   "execution_count": null
  },
  {
   "cell_type": "code",
   "id": "2f0545bd-efd9-4145-84ed-04ff79c26fe7",
   "metadata": {
    "language": "sql",
    "name": "cell4"
   },
   "outputs": [],
   "source": "\n\n\n\nCREATE OR REPLACE VIEW FACE_CARE_PRODUCT_AGG_BY_SKIN_TYPE\nAS\n(\nSELECT \n      selling_name as \"PRODUCT\"\n    , skin_type_face as \"SKIN-TYPE\"\n    , avg(liking) AS \"AVG-LIKING\"  \n    , avg(CM_SUCCESSFUl) AS \"AVG-SUCCESS\"\n    , avg(FREQ_FACIAL_MASK) AS \"FREQ-FAC-MASK\"\n    , avg(FREQ_FACIAL_TONER) AS \"FREQ-FAC-TON\"\nFROM SCENT_WRK_DEV_DB.DEMO.pilot_1_product_test\nWHERE END_USE ILIKE 'Face Care Products'\nGROUP BY selling_name, skin_type_face\n)\n\n    \n    ",
   "execution_count": null
  },
  {
   "cell_type": "code",
   "id": "6b01d7d1-698e-47a6-8c85-2447a33eb58a",
   "metadata": {
    "language": "sql",
    "name": "cell5"
   },
   "outputs": [],
   "source": "SELECT *\nFROM FACE_CARE_PRODUCT_AGG_BY_SKIN_TYPE;",
   "execution_count": null
  },
  {
   "cell_type": "code",
   "id": "f13f085a-385c-4cd3-9b63-2e585b703b56",
   "metadata": {
    "language": "sql",
    "name": "Semi_Structured_Data"
   },
   "outputs": [],
   "source": "SELECT TOP 100 * FROM SCENT_WRK_DEV_DB.DEMO.pilot_1_e_commerce_comments;\n\nCREATE OR REPLACE VIEW Topic_Mentions_by_Product\nas (\n    with parsed as \n    (\n    select parse_json(topics) as p_topics, *\n    from SCENT_WRK_DEV_DB.DEMO.pilot_1_e_commerce_comments\n    ),\n    flattened as\n    (select \n          p.p_topics:positive as positive\n        , p.p_topics:\"mentionned_topics\" as mentioned_list\n        , topic.value as topic\n        , p.*\n    from parsed p\n    , LATERAL FLATTEN (input=>p_topics:mentionned_topics) m\n    , LATERAL FLATTEN(strtok_to_array(m.value, ', ')) topic\n    )\n    select \n        name_voysen,\n        topic,\n        count(*) as \"Number of Mentions\"\n    from flattened\n    GROUP BY name_voysen, topic\n);",
   "execution_count": null
  },
  {
   "cell_type": "code",
   "id": "8d50cbf4-0c8d-4950-86cb-114990437ac9",
   "metadata": {
    "language": "sql",
    "name": "AVG_LIKING_BY_SKIN_TYPE",
    "codeCollapsed": false
   },
   "source": "-- Welcome to Snowflake Notebooks!\nselect \n     selling_name AS \"PRODUCT NAME\"\n     , skin_type_face AS \"SKIN TYPE\"\n     , avg(liking) AS \"AVERAGE LIKING\"\n from pilot_1_product_test\n WHERE SKIN_TYPE_FACE IS NOT NULL\n and END_USE ILIKE 'Face Care Products'\n GROUP BY selling_name, skin_type_face --, cluster\n ORDER BY selling_name, skin_type_face --, cluster\n ;",
   "execution_count": null,
   "outputs": []
  },
  {
   "cell_type": "code",
   "id": "5d4766c6-4608-44ae-9d0f-abe6fd94e2e8",
   "metadata": {
    "language": "sql",
    "name": "TOPICS_MENTIONED_BY_PRODUCT"
   },
   "outputs": [],
   "source": "select \n    \n    Name_Voysen as Product, \n    Topic, \n    \"Number of Mentions\" as Mentions\n    \nfrom Topic_Mentions_by_Product\nQUALIFY RANK() OVER (PARTITION BY Name_Voysen ORDER BY \"Number of Mentions\" DESC) <=3\norder by Name_Voysen, \"Number of Mentions\" DESC;\n",
   "execution_count": null
  },
  {
   "cell_type": "code",
   "id": "3775908f-ca36-4846-8f38-5adca39217f2",
   "metadata": {
    "language": "python",
    "name": "Imports",
    "codeCollapsed": false
   },
   "source": "# Import python packages\nimport streamlit as st\nimport pandas as pd\n\n# We can also use Snowpark for our analyses!\nfrom snowflake.snowpark.context import get_active_session\nsession = get_active_session()\n",
   "execution_count": null,
   "outputs": []
  },
  {
   "cell_type": "code",
   "id": "c695373e-ac74-4b62-a1f1-08206cbd5c81",
   "metadata": {
    "language": "python",
    "name": "Liking_Chart"
   },
   "source": "# Then, we can use the python name to turn cell2 into a Pandas dataframe\nmy_df = AVG_LIKING_BY_SKIN_TYPE.to_pandas()\n\n# Chart the data\nst.subheader(\"PRODUCT Average liking by Skin Type Face\")\nst.bar_chart(my_df, x='PRODUCT NAME', y='AVERAGE LIKING', color='SKIN TYPE', stack=False)\n\n",
   "execution_count": null,
   "outputs": []
  },
  {
   "cell_type": "code",
   "id": "bd501ec9-8783-42fc-b10f-7d4603b5325c",
   "metadata": {
    "language": "python",
    "name": "Topic_Mentions_Chart"
   },
   "outputs": [],
   "source": "\nmy_df = TOPICS_MENTIONED_BY_PRODUCT.to_pandas()\n\n# Chart the data\nst.subheader(\"Top 3 Topics Mentioned by Product\")\nst.bar_chart(my_df, x=\"PRODUCT\", y=\"MENTIONS\", color='TOPIC', stack=False)\n\n",
   "execution_count": null
  },
  {
   "cell_type": "code",
   "id": "21c1af3d-2444-4a07-96fc-d6af13144a3f",
   "metadata": {
    "language": "python",
    "name": "Model_Registry"
   },
   "outputs": [],
   "source": "",
   "execution_count": null
  },
  {
   "cell_type": "markdown",
   "id": "ae51d53c-dc78-48c0-ac51-4f6d8bf4f3d1",
   "metadata": {
    "name": "cell2"
   },
   "source": ""
  }
 ]
}